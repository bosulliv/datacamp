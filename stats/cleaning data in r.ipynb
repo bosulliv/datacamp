{
 "cells": [
  {
   "cell_type": "markdown",
   "metadata": {},
   "source": [
    "    * gather flattens, Make wide tables long\n",
    "    * spread ..erm.. spreads. Makes long tables wide\n",
    "    \n",
    "    * separate = chop a column into several columns. It separates on any non-alpha numeric by default\n",
    "    * unite = join multiple cols into one (it uses underscore to join)"
   ]
  },
  {
   "cell_type": "code",
   "execution_count": null,
   "metadata": {},
   "outputs": [],
   "source": []
  }
 ],
 "metadata": {
  "kernelspec": {
   "display_name": "R",
   "language": "R",
   "name": "ir"
  },
  "language_info": {
   "codemirror_mode": "r",
   "file_extension": ".r",
   "mimetype": "text/x-r-source",
   "name": "R",
   "pygments_lexer": "r",
   "version": "3.4.2"
  }
 },
 "nbformat": 4,
 "nbformat_minor": 2
}

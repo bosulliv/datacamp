{
 "cells": [
  {
   "cell_type": "markdown",
   "metadata": {},
   "source": [
    "# Multiple and Logistic Regression"
   ]
  },
  {
   "cell_type": "markdown",
   "metadata": {},
   "source": [
    "lm(y ~ x + factor, data = <dataset)\n",
    "\n",
    "    y = a + b0*x +b1*factor\n",
    "\n",
    "    a  = intercept with x = 0\n",
    "    b0 = slope for both lines\n",
    "    b1 = intercept when factor is true \n",
    "    factor = must be logical true or false or a two value factor\n",
    "\n",
    "There is only one slope - our tests just change the interesct on the yes/no factor 3rd variable\n"
   ]
  },
  {
   "cell_type": "markdown",
   "metadata": {},
   "source": [
    "## Three ways to describe a model\n",
    "\n",
    "    * mathematical (e.g. equation)\n",
    "    * Geometric (e.g. graph)\n",
    "    * Synctacic (e.g. R code)"
   ]
  },
  {
   "cell_type": "markdown",
   "metadata": {},
   "source": [
    "Suppose we have a model with 10 observations and one variable response. For a normal linear model, we will have 1 x 10 residual variable observations and 1 x 10 response observations. So the SST sum of squares of response variable, and as we only have 1 response variable, this never changes.\n",
    "\n",
    "    SST = sum( ( y[1..n]-mean(y) )^2 )\n",
    "\n",
    "SSE is the sum of the squared residials\n",
    "\n",
    "    SSE = sum( res[1..n]^2 )\n",
    "    \n",
    "R squared is:\n",
    "\n",
    "    R^2 = 1 - (SSE/n) / (SST/n) = 1 - SSE/SST\n",
    "\n",
    "In the single line case, then n's cancel out. But if we add another parallel line - SST stays the same, but SSE becomes:\n",
    "\n",
    "    R^2 = 1 - (SSE/2*n) / (SST/n) = 1 - SSE/(2*SST)\n",
    "\n",
    "If we add a parallel second fit line, we double the number of residials."
   ]
  },
  {
   "cell_type": "markdown",
   "metadata": {},
   "source": [
    "## Higher Dimensions\n",
    "\n",
    "You can include all variables in a data set using '.' Often that will require some unrelated variables (such as ID) to removed with the minus sign. e.g\n",
    "\n",
    "    lm(bwd ~ . - case, data = babies)\n",
    "    \n",
    "Linearly model all variables, except case, for the data set babies."
   ]
  },
  {
   "cell_type": "markdown",
   "metadata": {},
   "source": [
    "## Generalised linear models\n",
    "\n",
    "When the response variable is categorical, linear mapping gives strange results. This is where generalised linear models help.\n",
    "\n",
    "In this section we will consider the simplest case, a binary response variable. This is called logistical regression.\n",
    "\n",
    "The trick is to apply a link function to our .fitted values, to they correctly map to the categorial response variable"
   ]
  },
  {
   "cell_type": "markdown",
   "metadata": {},
   "source": [
    "### Comparison\n",
    "\n",
    "Probability scale\n",
    "\n",
    "    * scale: intuitive, easy to interpret\n",
    "    * function: non-linear, hard to interpret\n",
    "    \n",
    "Odds scale\n",
    "\n",
    "    * scale: harder to interpret\n",
    "    * function: exponential, harder to interpret\n",
    "    \n",
    "Log-odds scale\n",
    "\n",
    "    * scale: impossible to interpret\n",
    "    * function: linear, easy to interpret"
   ]
  },
  {
   "cell_type": "markdown",
   "metadata": {},
   "source": [
    "pairs(data) is a really useful visual comparison - I should use that on the fraud dataset"
   ]
  },
  {
   "cell_type": "markdown",
   "metadata": {},
   "source": [
    "## Practice\n",
    "\n",
    "I'm only just grasping some of these principles - I'm inclined to do the module again so it sinks in.\n",
    "\n",
    "This is one area where the interactive web training isn't as strong as direct tuturial - it can't tell what I'm thinking. Sometimes it's annoying where my working is valid, but it doesn't exactly match the expected code. And in others I'm using a sudoku strategy to solve the problem - rather than truly understanding the material.\n",
    "\n"
   ]
  },
  {
   "cell_type": "code",
   "execution_count": null,
   "metadata": {},
   "outputs": [],
   "source": []
  }
 ],
 "metadata": {
  "kernelspec": {
   "display_name": "R",
   "language": "R",
   "name": "ir"
  },
  "language_info": {
   "codemirror_mode": "r",
   "file_extension": ".r",
   "mimetype": "text/x-r-source",
   "name": "R",
   "pygments_lexer": "r",
   "version": "3.4.2"
  }
 },
 "nbformat": 4,
 "nbformat_minor": 2
}

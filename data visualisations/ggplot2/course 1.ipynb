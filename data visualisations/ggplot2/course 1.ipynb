{
 "cells": [
  {
   "cell_type": "markdown",
   "metadata": {},
   "source": [
    "grammar of graphics\n",
    "\n",
    "Explore = confirm and analyse e.g scientist/peers for working\n",
    "Explain = inform and pursuade e.g articles of experiement outcomes\n",
    "\n",
    "data = ideally tidy date e.g. tidy data.frames\n",
    "aesthetics = scales = encoding elements\n",
    "geometries = points, line and bars"
   ]
  }
 ],
 "metadata": {
  "kernelspec": {
   "display_name": "R",
   "language": "R",
   "name": "ir"
  },
  "language_info": {
   "codemirror_mode": "r",
   "file_extension": ".r",
   "mimetype": "text/x-r-source",
   "name": "R",
   "pygments_lexer": "r",
   "version": "3.4.2"
  }
 },
 "nbformat": 4,
 "nbformat_minor": 2
}
